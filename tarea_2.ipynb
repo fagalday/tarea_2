{
 "cells": [
  {
   "cell_type": "code",
   "execution_count": 2,
   "metadata": {},
   "outputs": [
    {
     "data": {
      "text/plain": [
       "{'K', 'a', 'h', 'l', 'q', 'w'}"
      ]
     },
     "execution_count": 2,
     "metadata": {},
     "output_type": "execute_result"
    }
   ],
   "source": [
    "#dadas dos listas, convertirlas a un set en donde no se muestren los elementos repetidos en ambas listas\n",
    "\n",
    "def juntas(x,y):\n",
    "    a = set(x)\n",
    "    b = set(y)\n",
    "    return (a|b)\n",
    "\n",
    "lista1 = [\"a\",\"h\",\"K\",\"q\"]\n",
    "lista2 = [\"a\",\"l\",\"w\",\"q\"]\n",
    "\n",
    "juntas(lista1,lista2)"
   ]
  },
  {
   "cell_type": "code",
   "execution_count": 51,
   "metadata": {},
   "outputs": [
    {
     "name": "stdout",
     "output_type": "stream",
     "text": [
      "20000\n",
      "40000\n"
     ]
    }
   ],
   "source": [
    "#se les da un diccionario con el stock de una bodega de instrumentos musicales y su precio unitario.\n",
    "#devolver otro diccionario con la suma de lo que valen todas las categorias de instrumentos por separado.\n",
    "\n",
    "d = {\"guitarra\":{\"stock\":10, \"precio\":2000},\"bajo\":{\"stock\":4,\"precio\":10000}}\n",
    "\n",
    "for key,val in d.items():\n",
    "    print(val[\"stock\"] * val[\"precio\"])"
   ]
  },
  {
   "cell_type": "code",
   "execution_count": 66,
   "metadata": {},
   "outputs": [
    {
     "name": "stdout",
     "output_type": "stream",
     "text": [
      "[0, 1, 0, 1, 0, 1, 0, 1]\n",
      "[1, 0, 1, 0, 1, 0, 1, 0]\n",
      "[0, 1, 0, 1, 0, 1, 0, 1]\n",
      "[1, 0, 1, 0, 1, 0, 1, 0]\n",
      "[0, 1, 0, 1, 0, 1, 0, 1]\n",
      "[1, 0, 1, 0, 1, 0, 1, 0]\n",
      "[0, 1, 0, 1, 0, 1, 0, 1]\n",
      "[1, 0, 1, 0, 1, 0, 1, 0]\n"
     ]
    }
   ],
   "source": [
    "for x in [[(n+(y%2))%2 for n in range (8)]for y in range(8)]: print (x)"
   ]
  },
  {
   "cell_type": "code",
   "execution_count": 15,
   "metadata": {},
   "outputs": [
    {
     "data": {
      "text/plain": [
       "{'stock': 20, 'precio': 2000}"
      ]
     },
     "execution_count": 15,
     "metadata": {},
     "output_type": "execute_result"
    }
   ],
   "source": [
    "dicta = {'Name': \"Zara\", 'Age': 7}\n",
    "for key,val in dicta.items():\n",
    "    print (val)\n"
   ]
  },
  {
   "cell_type": "code",
   "execution_count": 19,
   "metadata": {},
   "outputs": [
    {
     "data": {
      "text/plain": [
       "{'stock': 4, 'precio': 10000}"
      ]
     },
     "execution_count": 19,
     "metadata": {},
     "output_type": "execute_result"
    }
   ],
   "source": [
    "d.get(\"bajo\")"
   ]
  },
  {
   "cell_type": "code",
   "execution_count": 18,
   "metadata": {},
   "outputs": [],
   "source": [
    "d = {\"guitarra\":{\"stock\":20, \"precio\":2000},\"bajo\":{\"stock\":4,\"precio\":10000}}"
   ]
  },
  {
   "cell_type": "code",
   "execution_count": 9,
   "metadata": {},
   "outputs": [
    {
     "name": "stdout",
     "output_type": "stream",
     "text": [
      "('guitarra', {'stock': 20, 'precio': 2000})\n",
      "('bajo', {'stock': 4, 'precio': 10000})\n"
     ]
    }
   ],
   "source": [
    "for i in d.items():\n",
    "    print(i)"
   ]
  },
  {
   "cell_type": "code",
   "execution_count": 11,
   "metadata": {},
   "outputs": [
    {
     "ename": "SyntaxError",
     "evalue": "invalid syntax (<ipython-input-11-290f1bd169ca>, line 1)",
     "output_type": "error",
     "traceback": [
      "\u001b[1;36m  File \u001b[1;32m\"<ipython-input-11-290f1bd169ca>\"\u001b[1;36m, line \u001b[1;32m1\u001b[0m\n\u001b[1;33m    print d.get(\"precio\")\u001b[0m\n\u001b[1;37m          ^\u001b[0m\n\u001b[1;31mSyntaxError\u001b[0m\u001b[1;31m:\u001b[0m invalid syntax\n"
     ]
    }
   ],
   "source": [
    "d.get(\"precio\")"
   ]
  },
  {
   "cell_type": "code",
   "execution_count": 20,
   "metadata": {},
   "outputs": [
    {
     "name": "stdout",
     "output_type": "stream",
     "text": [
      "dict_items([('Name', 'Zara'), ('Age', 7)])\n"
     ]
    }
   ],
   "source": [
    "dicta = {'Name': \"Zara\", 'Age': 7}\n",
    "print ( dicta.items())"
   ]
  },
  {
   "cell_type": "code",
   "execution_count": 25,
   "metadata": {},
   "outputs": [
    {
     "name": "stdout",
     "output_type": "stream",
     "text": [
      "Zara\n",
      "7\n"
     ]
    }
   ],
   "source": [
    "dicta = {'Name': \"Zara\", 'Age': 7}\n",
    "for key,val in dicta.items():\n",
    "    print (val)"
   ]
  },
  {
   "cell_type": "code",
   "execution_count": 26,
   "metadata": {},
   "outputs": [
    {
     "name": "stdout",
     "output_type": "stream",
     "text": [
      "{'stock': 20, 'precio': 2000}\n",
      "{'stock': 4, 'precio': 10000}\n"
     ]
    }
   ],
   "source": [
    "d = {\"guitarra\":{\"stock\":20, \"precio\":2000},\"bajo\":{\"stock\":4,\"precio\":10000}}\n",
    "for key,val in d.items():\n",
    "    print (val)\n",
    "            \n",
    "    \n",
    "    "
   ]
  },
  {
   "cell_type": "code",
   "execution_count": 31,
   "metadata": {},
   "outputs": [
    {
     "name": "stdout",
     "output_type": "stream",
     "text": [
      "['guitarra']\n",
      "['bajo']\n"
     ]
    }
   ],
   "source": [
    "d = {\"guitarra\":{\"stock\":20, \"precio\":2000},\"bajo\":{\"stock\":4,\"precio\":10000}}\n",
    "\n",
    "for year in d:\n",
    "    d= [year]\n",
    "    print (d)"
   ]
  },
  {
   "cell_type": "code",
   "execution_count": 32,
   "metadata": {},
   "outputs": [
    {
     "name": "stdout",
     "output_type": "stream",
     "text": [
      "('stock', 20)\n",
      "('precio', 2000)\n",
      "('stock', 4)\n",
      "('precio', 10000)\n"
     ]
    }
   ],
   "source": [
    "d = {\"guitarra\":{\"stock\":20, \"precio\":2000},\"bajo\":{\"stock\":4,\"precio\":10000}}\n",
    "\n",
    "for key,val in d.items():\n",
    "    for val in val.items():\n",
    "        print (val)\n",
    "            "
   ]
  },
  {
   "cell_type": "code",
   "execution_count": 64,
   "metadata": {},
   "outputs": [
    {
     "name": "stdout",
     "output_type": "stream",
     "text": [
      "{0, 1, 2, 3, 4, 5, 6, 7, 8, 9, 10}\n"
     ]
    }
   ],
   "source": [
    "lista = {y for y in range(11) for x in range(10)}\n",
    "print (lista)"
   ]
  },
  {
   "cell_type": "code",
   "execution_count": 65,
   "metadata": {},
   "outputs": [
    {
     "name": "stdout",
     "output_type": "stream",
     "text": [
      "[0, 1, 0, 1, 0, 1, 0, 1]\n",
      "[1, 0, 1, 0, 1, 0, 1, 0]\n",
      "[0, 1, 0, 1, 0, 1, 0, 1]\n",
      "[1, 0, 1, 0, 1, 0, 1, 0]\n",
      "[0, 1, 0, 1, 0, 1, 0, 1]\n",
      "[1, 0, 1, 0, 1, 0, 1, 0]\n",
      "[0, 1, 0, 1, 0, 1, 0, 1]\n",
      "[1, 0, 1, 0, 1, 0, 1, 0]\n"
     ]
    }
   ],
   "source": [
    "for x in [[(n+(y%2))%2 for n in range (8)]for y in range(8)]: print (x)"
   ]
  },
  {
   "cell_type": "code",
   "execution_count": null,
   "metadata": {},
   "outputs": [],
   "source": []
  }
 ],
 "metadata": {
  "kernelspec": {
   "display_name": "Python 3",
   "language": "python",
   "name": "python3"
  },
  "language_info": {
   "codemirror_mode": {
    "name": "ipython",
    "version": 3
   },
   "file_extension": ".py",
   "mimetype": "text/x-python",
   "name": "python",
   "nbconvert_exporter": "python",
   "pygments_lexer": "ipython3",
   "version": "3.6.5"
  }
 },
 "nbformat": 4,
 "nbformat_minor": 2
}
